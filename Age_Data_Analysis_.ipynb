{
  "nbformat": 4,
  "nbformat_minor": 0,
  "metadata": {
    "colab": {
      "name": "Age Data Analysis .ipynb",
      "provenance": [],
      "collapsed_sections": [],
      "mount_file_id": "1ZYFPBrRCzfIPnAfutjvUodrGq7pfb58F",
      "authorship_tag": "ABX9TyOXX43Wh/991tIUoN15Km2k",
      "include_colab_link": true
    },
    "kernelspec": {
      "name": "python3",
      "display_name": "Python 3"
    },
    "language_info": {
      "name": "python"
    }
  },
  "cells": [
    {
      "cell_type": "markdown",
      "metadata": {
        "id": "view-in-github",
        "colab_type": "text"
      },
      "source": [
        "<a href=\"https://colab.research.google.com/github/Akshay069/Age-dataset-analysis/blob/main/Age_Data_Analysis_.ipynb\" target=\"_parent\"><img src=\"https://colab.research.google.com/assets/colab-badge.svg\" alt=\"Open In Colab\"/></a>"
      ]
    },
    {
      "cell_type": "markdown",
      "source": [
        "#**Age dataset: life, work, and death of 1.22M people**\n",
        "\n",
        "**About Dataset**\n",
        "The dataset contains structured information on the life, work, and death of more than 1 million deceased famous people.\n",
        "\n",
        "\\\n",
        "\\\n",
        "**Paper abstract (ICWSM proceedings)**\\\n",
        "We developed a five-step method and inferred birth and death years, binary gender, and occupation from community-submitted data to all language versions of the Wikipedia project. The dataset is the largest on notable deceased people and includes individuals from a variety of social groups, including but not limited to 107k females, 124 non-binary people, and 90k researchers, who are spread across more than 300 contemporary or historical regions. The final product provides new insights into the demographics of mortality in relation to gender and profession in history. The technical method demonstrates the usability of the latest text mining approaches to accurately clean historical data and reduce the missing values."
      ],
      "metadata": {
        "id": "KVxLBLVLFU1b"
      }
    },
    {
      "cell_type": "code",
      "execution_count": null,
      "metadata": {
        "id": "gJblSCGnwfk2"
      },
      "outputs": [],
      "source": [
        "#Let's first import all the required liabraries. \n",
        "import numpy as np\n",
        "import pandas as pd\n",
        "import matplotlib.pyplot as plt\n",
        "import seaborn as sns\n",
        "%matplotlib inline"
      ]
    },
    {
      "cell_type": "code",
      "source": [
        "#Importing data from google drive \n",
        "file_location = '/content/drive/MyDrive/AgeDataset-V1.csv/AgeDataset-V1.csv'\n",
        "df= pd.read_csv(file_location)"
      ],
      "metadata": {
        "id": "7Dn2lHlwxWVV"
      },
      "execution_count": null,
      "outputs": []
    },
    {
      "cell_type": "code",
      "source": [
        "# Lets see what we have in our dataset by yop five rows\n",
        "df.head()"
      ],
      "metadata": {
        "colab": {
          "base_uri": "https://localhost:8080/",
          "height": 337
        },
        "id": "SGKFoo7YzB-f",
        "outputId": "4dd21f67-73e5-4961-be6d-bdd1e117a98b"
      },
      "execution_count": null,
      "outputs": [
        {
          "output_type": "execute_result",
          "data": {
            "text/plain": [
              "     Id                     Name  \\\n",
              "0   Q23        George Washington   \n",
              "1   Q42            Douglas Adams   \n",
              "2   Q91          Abraham Lincoln   \n",
              "3  Q254  Wolfgang Amadeus Mozart   \n",
              "4  Q255     Ludwig van Beethoven   \n",
              "\n",
              "                                 Short description Gender  \\\n",
              "0   1st president of the United States (1732–1799)   Male   \n",
              "1                      English writer and humorist   Male   \n",
              "2  16th president of the United States (1809-1865)   Male   \n",
              "3        Austrian composer of the Classical period   Male   \n",
              "4           German classical and romantic composer   Male   \n",
              "\n",
              "                                             Country  Occupation  Birth year  \\\n",
              "0  United States of America; Kingdom of Great Bri...  Politician        1732   \n",
              "1                                     United Kingdom      Artist        1952   \n",
              "2                           United States of America  Politician        1809   \n",
              "3    Archduchy of Austria; Archbishopric of Salzburg      Artist        1756   \n",
              "4                 Holy Roman Empire; Austrian Empire      Artist        1770   \n",
              "\n",
              "   Death year Manner of death  Age of death  \n",
              "0      1799.0  natural causes          67.0  \n",
              "1      2001.0  natural causes          49.0  \n",
              "2      1865.0        homicide          56.0  \n",
              "3      1791.0             NaN          35.0  \n",
              "4      1827.0             NaN          57.0  "
            ],
            "text/html": [
              "\n",
              "  <div id=\"df-aed6244e-46f0-4234-8ded-c719ccfeb8c3\">\n",
              "    <div class=\"colab-df-container\">\n",
              "      <div>\n",
              "<style scoped>\n",
              "    .dataframe tbody tr th:only-of-type {\n",
              "        vertical-align: middle;\n",
              "    }\n",
              "\n",
              "    .dataframe tbody tr th {\n",
              "        vertical-align: top;\n",
              "    }\n",
              "\n",
              "    .dataframe thead th {\n",
              "        text-align: right;\n",
              "    }\n",
              "</style>\n",
              "<table border=\"1\" class=\"dataframe\">\n",
              "  <thead>\n",
              "    <tr style=\"text-align: right;\">\n",
              "      <th></th>\n",
              "      <th>Id</th>\n",
              "      <th>Name</th>\n",
              "      <th>Short description</th>\n",
              "      <th>Gender</th>\n",
              "      <th>Country</th>\n",
              "      <th>Occupation</th>\n",
              "      <th>Birth year</th>\n",
              "      <th>Death year</th>\n",
              "      <th>Manner of death</th>\n",
              "      <th>Age of death</th>\n",
              "    </tr>\n",
              "  </thead>\n",
              "  <tbody>\n",
              "    <tr>\n",
              "      <th>0</th>\n",
              "      <td>Q23</td>\n",
              "      <td>George Washington</td>\n",
              "      <td>1st president of the United States (1732–1799)</td>\n",
              "      <td>Male</td>\n",
              "      <td>United States of America; Kingdom of Great Bri...</td>\n",
              "      <td>Politician</td>\n",
              "      <td>1732</td>\n",
              "      <td>1799.0</td>\n",
              "      <td>natural causes</td>\n",
              "      <td>67.0</td>\n",
              "    </tr>\n",
              "    <tr>\n",
              "      <th>1</th>\n",
              "      <td>Q42</td>\n",
              "      <td>Douglas Adams</td>\n",
              "      <td>English writer and humorist</td>\n",
              "      <td>Male</td>\n",
              "      <td>United Kingdom</td>\n",
              "      <td>Artist</td>\n",
              "      <td>1952</td>\n",
              "      <td>2001.0</td>\n",
              "      <td>natural causes</td>\n",
              "      <td>49.0</td>\n",
              "    </tr>\n",
              "    <tr>\n",
              "      <th>2</th>\n",
              "      <td>Q91</td>\n",
              "      <td>Abraham Lincoln</td>\n",
              "      <td>16th president of the United States (1809-1865)</td>\n",
              "      <td>Male</td>\n",
              "      <td>United States of America</td>\n",
              "      <td>Politician</td>\n",
              "      <td>1809</td>\n",
              "      <td>1865.0</td>\n",
              "      <td>homicide</td>\n",
              "      <td>56.0</td>\n",
              "    </tr>\n",
              "    <tr>\n",
              "      <th>3</th>\n",
              "      <td>Q254</td>\n",
              "      <td>Wolfgang Amadeus Mozart</td>\n",
              "      <td>Austrian composer of the Classical period</td>\n",
              "      <td>Male</td>\n",
              "      <td>Archduchy of Austria; Archbishopric of Salzburg</td>\n",
              "      <td>Artist</td>\n",
              "      <td>1756</td>\n",
              "      <td>1791.0</td>\n",
              "      <td>NaN</td>\n",
              "      <td>35.0</td>\n",
              "    </tr>\n",
              "    <tr>\n",
              "      <th>4</th>\n",
              "      <td>Q255</td>\n",
              "      <td>Ludwig van Beethoven</td>\n",
              "      <td>German classical and romantic composer</td>\n",
              "      <td>Male</td>\n",
              "      <td>Holy Roman Empire; Austrian Empire</td>\n",
              "      <td>Artist</td>\n",
              "      <td>1770</td>\n",
              "      <td>1827.0</td>\n",
              "      <td>NaN</td>\n",
              "      <td>57.0</td>\n",
              "    </tr>\n",
              "  </tbody>\n",
              "</table>\n",
              "</div>\n",
              "      <button class=\"colab-df-convert\" onclick=\"convertToInteractive('df-aed6244e-46f0-4234-8ded-c719ccfeb8c3')\"\n",
              "              title=\"Convert this dataframe to an interactive table.\"\n",
              "              style=\"display:none;\">\n",
              "        \n",
              "  <svg xmlns=\"http://www.w3.org/2000/svg\" height=\"24px\"viewBox=\"0 0 24 24\"\n",
              "       width=\"24px\">\n",
              "    <path d=\"M0 0h24v24H0V0z\" fill=\"none\"/>\n",
              "    <path d=\"M18.56 5.44l.94 2.06.94-2.06 2.06-.94-2.06-.94-.94-2.06-.94 2.06-2.06.94zm-11 1L8.5 8.5l.94-2.06 2.06-.94-2.06-.94L8.5 2.5l-.94 2.06-2.06.94zm10 10l.94 2.06.94-2.06 2.06-.94-2.06-.94-.94-2.06-.94 2.06-2.06.94z\"/><path d=\"M17.41 7.96l-1.37-1.37c-.4-.4-.92-.59-1.43-.59-.52 0-1.04.2-1.43.59L10.3 9.45l-7.72 7.72c-.78.78-.78 2.05 0 2.83L4 21.41c.39.39.9.59 1.41.59.51 0 1.02-.2 1.41-.59l7.78-7.78 2.81-2.81c.8-.78.8-2.07 0-2.86zM5.41 20L4 18.59l7.72-7.72 1.47 1.35L5.41 20z\"/>\n",
              "  </svg>\n",
              "      </button>\n",
              "      \n",
              "  <style>\n",
              "    .colab-df-container {\n",
              "      display:flex;\n",
              "      flex-wrap:wrap;\n",
              "      gap: 12px;\n",
              "    }\n",
              "\n",
              "    .colab-df-convert {\n",
              "      background-color: #E8F0FE;\n",
              "      border: none;\n",
              "      border-radius: 50%;\n",
              "      cursor: pointer;\n",
              "      display: none;\n",
              "      fill: #1967D2;\n",
              "      height: 32px;\n",
              "      padding: 0 0 0 0;\n",
              "      width: 32px;\n",
              "    }\n",
              "\n",
              "    .colab-df-convert:hover {\n",
              "      background-color: #E2EBFA;\n",
              "      box-shadow: 0px 1px 2px rgba(60, 64, 67, 0.3), 0px 1px 3px 1px rgba(60, 64, 67, 0.15);\n",
              "      fill: #174EA6;\n",
              "    }\n",
              "\n",
              "    [theme=dark] .colab-df-convert {\n",
              "      background-color: #3B4455;\n",
              "      fill: #D2E3FC;\n",
              "    }\n",
              "\n",
              "    [theme=dark] .colab-df-convert:hover {\n",
              "      background-color: #434B5C;\n",
              "      box-shadow: 0px 1px 3px 1px rgba(0, 0, 0, 0.15);\n",
              "      filter: drop-shadow(0px 1px 2px rgba(0, 0, 0, 0.3));\n",
              "      fill: #FFFFFF;\n",
              "    }\n",
              "  </style>\n",
              "\n",
              "      <script>\n",
              "        const buttonEl =\n",
              "          document.querySelector('#df-aed6244e-46f0-4234-8ded-c719ccfeb8c3 button.colab-df-convert');\n",
              "        buttonEl.style.display =\n",
              "          google.colab.kernel.accessAllowed ? 'block' : 'none';\n",
              "\n",
              "        async function convertToInteractive(key) {\n",
              "          const element = document.querySelector('#df-aed6244e-46f0-4234-8ded-c719ccfeb8c3');\n",
              "          const dataTable =\n",
              "            await google.colab.kernel.invokeFunction('convertToInteractive',\n",
              "                                                     [key], {});\n",
              "          if (!dataTable) return;\n",
              "\n",
              "          const docLinkHtml = 'Like what you see? Visit the ' +\n",
              "            '<a target=\"_blank\" href=https://colab.research.google.com/notebooks/data_table.ipynb>data table notebook</a>'\n",
              "            + ' to learn more about interactive tables.';\n",
              "          element.innerHTML = '';\n",
              "          dataTable['output_type'] = 'display_data';\n",
              "          await google.colab.output.renderOutput(dataTable, element);\n",
              "          const docLink = document.createElement('div');\n",
              "          docLink.innerHTML = docLinkHtml;\n",
              "          element.appendChild(docLink);\n",
              "        }\n",
              "      </script>\n",
              "    </div>\n",
              "  </div>\n",
              "  "
            ]
          },
          "metadata": {},
          "execution_count": 4
        }
      ]
    },
    {
      "cell_type": "code",
      "source": [
        "# Lets see last five rows from our dataset.\n",
        "df.tail()"
      ],
      "metadata": {
        "colab": {
          "base_uri": "https://localhost:8080/",
          "height": 337
        },
        "id": "dY28h3yczNlp",
        "outputId": "c36b1e4b-b6f9-4fdc-c6df-741b08e75438"
      },
      "execution_count": null,
      "outputs": [
        {
          "output_type": "execute_result",
          "data": {
            "text/plain": [
              "                Id                     Name  \\\n",
              "1223004  Q77247326    Marie-Fortunée Besson   \n",
              "1223005  Q77249504              Ron Thorsen   \n",
              "1223006  Q77249818       Diether Todenhagen   \n",
              "1223007  Q77253909  Reginald Oswald Pearson   \n",
              "1223008  Q77254864             Horst Lerche   \n",
              "\n",
              "                                         Short description Gender  \\\n",
              "1223004                            Frans model (1907-1996)    NaN   \n",
              "1223005        xugador de baloncestu canadianu (1948–2004)    NaN   \n",
              "1223006  German navy officer and world war II U-boat co...    NaN   \n",
              "1223007  English artist, working in stained glass, prin...   Male   \n",
              "1223008                                     German painter   Male   \n",
              "\n",
              "                                  Country          Occupation  Birth year  \\\n",
              "1223004                            France       Tailor; model        1907   \n",
              "1223005  Canada; United States of America             Athlete        1948   \n",
              "1223006                           Germany  Military personnel        1920   \n",
              "1223007                    United Kingdom              Artist        1887   \n",
              "1223008                           Germany              Artist        1938   \n",
              "\n",
              "         Death year Manner of death  Age of death  \n",
              "1223004      1996.0             NaN          89.0  \n",
              "1223005      2004.0             NaN          56.0  \n",
              "1223006      1944.0             NaN          24.0  \n",
              "1223007      1915.0             NaN          28.0  \n",
              "1223008      2017.0             NaN          79.0  "
            ],
            "text/html": [
              "\n",
              "  <div id=\"df-f09e4970-541b-448e-8720-fedc1018bff7\">\n",
              "    <div class=\"colab-df-container\">\n",
              "      <div>\n",
              "<style scoped>\n",
              "    .dataframe tbody tr th:only-of-type {\n",
              "        vertical-align: middle;\n",
              "    }\n",
              "\n",
              "    .dataframe tbody tr th {\n",
              "        vertical-align: top;\n",
              "    }\n",
              "\n",
              "    .dataframe thead th {\n",
              "        text-align: right;\n",
              "    }\n",
              "</style>\n",
              "<table border=\"1\" class=\"dataframe\">\n",
              "  <thead>\n",
              "    <tr style=\"text-align: right;\">\n",
              "      <th></th>\n",
              "      <th>Id</th>\n",
              "      <th>Name</th>\n",
              "      <th>Short description</th>\n",
              "      <th>Gender</th>\n",
              "      <th>Country</th>\n",
              "      <th>Occupation</th>\n",
              "      <th>Birth year</th>\n",
              "      <th>Death year</th>\n",
              "      <th>Manner of death</th>\n",
              "      <th>Age of death</th>\n",
              "    </tr>\n",
              "  </thead>\n",
              "  <tbody>\n",
              "    <tr>\n",
              "      <th>1223004</th>\n",
              "      <td>Q77247326</td>\n",
              "      <td>Marie-Fortunée Besson</td>\n",
              "      <td>Frans model (1907-1996)</td>\n",
              "      <td>NaN</td>\n",
              "      <td>France</td>\n",
              "      <td>Tailor; model</td>\n",
              "      <td>1907</td>\n",
              "      <td>1996.0</td>\n",
              "      <td>NaN</td>\n",
              "      <td>89.0</td>\n",
              "    </tr>\n",
              "    <tr>\n",
              "      <th>1223005</th>\n",
              "      <td>Q77249504</td>\n",
              "      <td>Ron Thorsen</td>\n",
              "      <td>xugador de baloncestu canadianu (1948–2004)</td>\n",
              "      <td>NaN</td>\n",
              "      <td>Canada; United States of America</td>\n",
              "      <td>Athlete</td>\n",
              "      <td>1948</td>\n",
              "      <td>2004.0</td>\n",
              "      <td>NaN</td>\n",
              "      <td>56.0</td>\n",
              "    </tr>\n",
              "    <tr>\n",
              "      <th>1223006</th>\n",
              "      <td>Q77249818</td>\n",
              "      <td>Diether Todenhagen</td>\n",
              "      <td>German navy officer and world war II U-boat co...</td>\n",
              "      <td>NaN</td>\n",
              "      <td>Germany</td>\n",
              "      <td>Military personnel</td>\n",
              "      <td>1920</td>\n",
              "      <td>1944.0</td>\n",
              "      <td>NaN</td>\n",
              "      <td>24.0</td>\n",
              "    </tr>\n",
              "    <tr>\n",
              "      <th>1223007</th>\n",
              "      <td>Q77253909</td>\n",
              "      <td>Reginald Oswald Pearson</td>\n",
              "      <td>English artist, working in stained glass, prin...</td>\n",
              "      <td>Male</td>\n",
              "      <td>United Kingdom</td>\n",
              "      <td>Artist</td>\n",
              "      <td>1887</td>\n",
              "      <td>1915.0</td>\n",
              "      <td>NaN</td>\n",
              "      <td>28.0</td>\n",
              "    </tr>\n",
              "    <tr>\n",
              "      <th>1223008</th>\n",
              "      <td>Q77254864</td>\n",
              "      <td>Horst Lerche</td>\n",
              "      <td>German painter</td>\n",
              "      <td>Male</td>\n",
              "      <td>Germany</td>\n",
              "      <td>Artist</td>\n",
              "      <td>1938</td>\n",
              "      <td>2017.0</td>\n",
              "      <td>NaN</td>\n",
              "      <td>79.0</td>\n",
              "    </tr>\n",
              "  </tbody>\n",
              "</table>\n",
              "</div>\n",
              "      <button class=\"colab-df-convert\" onclick=\"convertToInteractive('df-f09e4970-541b-448e-8720-fedc1018bff7')\"\n",
              "              title=\"Convert this dataframe to an interactive table.\"\n",
              "              style=\"display:none;\">\n",
              "        \n",
              "  <svg xmlns=\"http://www.w3.org/2000/svg\" height=\"24px\"viewBox=\"0 0 24 24\"\n",
              "       width=\"24px\">\n",
              "    <path d=\"M0 0h24v24H0V0z\" fill=\"none\"/>\n",
              "    <path d=\"M18.56 5.44l.94 2.06.94-2.06 2.06-.94-2.06-.94-.94-2.06-.94 2.06-2.06.94zm-11 1L8.5 8.5l.94-2.06 2.06-.94-2.06-.94L8.5 2.5l-.94 2.06-2.06.94zm10 10l.94 2.06.94-2.06 2.06-.94-2.06-.94-.94-2.06-.94 2.06-2.06.94z\"/><path d=\"M17.41 7.96l-1.37-1.37c-.4-.4-.92-.59-1.43-.59-.52 0-1.04.2-1.43.59L10.3 9.45l-7.72 7.72c-.78.78-.78 2.05 0 2.83L4 21.41c.39.39.9.59 1.41.59.51 0 1.02-.2 1.41-.59l7.78-7.78 2.81-2.81c.8-.78.8-2.07 0-2.86zM5.41 20L4 18.59l7.72-7.72 1.47 1.35L5.41 20z\"/>\n",
              "  </svg>\n",
              "      </button>\n",
              "      \n",
              "  <style>\n",
              "    .colab-df-container {\n",
              "      display:flex;\n",
              "      flex-wrap:wrap;\n",
              "      gap: 12px;\n",
              "    }\n",
              "\n",
              "    .colab-df-convert {\n",
              "      background-color: #E8F0FE;\n",
              "      border: none;\n",
              "      border-radius: 50%;\n",
              "      cursor: pointer;\n",
              "      display: none;\n",
              "      fill: #1967D2;\n",
              "      height: 32px;\n",
              "      padding: 0 0 0 0;\n",
              "      width: 32px;\n",
              "    }\n",
              "\n",
              "    .colab-df-convert:hover {\n",
              "      background-color: #E2EBFA;\n",
              "      box-shadow: 0px 1px 2px rgba(60, 64, 67, 0.3), 0px 1px 3px 1px rgba(60, 64, 67, 0.15);\n",
              "      fill: #174EA6;\n",
              "    }\n",
              "\n",
              "    [theme=dark] .colab-df-convert {\n",
              "      background-color: #3B4455;\n",
              "      fill: #D2E3FC;\n",
              "    }\n",
              "\n",
              "    [theme=dark] .colab-df-convert:hover {\n",
              "      background-color: #434B5C;\n",
              "      box-shadow: 0px 1px 3px 1px rgba(0, 0, 0, 0.15);\n",
              "      filter: drop-shadow(0px 1px 2px rgba(0, 0, 0, 0.3));\n",
              "      fill: #FFFFFF;\n",
              "    }\n",
              "  </style>\n",
              "\n",
              "      <script>\n",
              "        const buttonEl =\n",
              "          document.querySelector('#df-f09e4970-541b-448e-8720-fedc1018bff7 button.colab-df-convert');\n",
              "        buttonEl.style.display =\n",
              "          google.colab.kernel.accessAllowed ? 'block' : 'none';\n",
              "\n",
              "        async function convertToInteractive(key) {\n",
              "          const element = document.querySelector('#df-f09e4970-541b-448e-8720-fedc1018bff7');\n",
              "          const dataTable =\n",
              "            await google.colab.kernel.invokeFunction('convertToInteractive',\n",
              "                                                     [key], {});\n",
              "          if (!dataTable) return;\n",
              "\n",
              "          const docLinkHtml = 'Like what you see? Visit the ' +\n",
              "            '<a target=\"_blank\" href=https://colab.research.google.com/notebooks/data_table.ipynb>data table notebook</a>'\n",
              "            + ' to learn more about interactive tables.';\n",
              "          element.innerHTML = '';\n",
              "          dataTable['output_type'] = 'display_data';\n",
              "          await google.colab.output.renderOutput(dataTable, element);\n",
              "          const docLink = document.createElement('div');\n",
              "          docLink.innerHTML = docLinkHtml;\n",
              "          element.appendChild(docLink);\n",
              "        }\n",
              "      </script>\n",
              "    </div>\n",
              "  </div>\n",
              "  "
            ]
          },
          "metadata": {},
          "execution_count": 5
        }
      ]
    },
    {
      "cell_type": "code",
      "source": [
        "# lets se the shape of our dataset.\n",
        "df.shape"
      ],
      "metadata": {
        "colab": {
          "base_uri": "https://localhost:8080/"
        },
        "id": "C7LJ2kK6zdXb",
        "outputId": "3adc9b0e-7b57-4aaf-cf9b-829663e0deef"
      },
      "execution_count": null,
      "outputs": [
        {
          "output_type": "execute_result",
          "data": {
            "text/plain": [
              "(1223009, 10)"
            ]
          },
          "metadata": {},
          "execution_count": 6
        }
      ]
    },
    {
      "cell_type": "code",
      "source": [
        "# Lets inspect all the columns in our dataset.\n",
        "df.columns"
      ],
      "metadata": {
        "colab": {
          "base_uri": "https://localhost:8080/"
        },
        "id": "lJsiEt9KzlS0",
        "outputId": "3033ce34-090e-4f99-8c72-3d5826b22133"
      },
      "execution_count": null,
      "outputs": [
        {
          "output_type": "execute_result",
          "data": {
            "text/plain": [
              "Index(['Id', 'Name', 'Short description', 'Gender', 'Country', 'Occupation',\n",
              "       'Birth year', 'Death year', 'Manner of death', 'Age of death'],\n",
              "      dtype='object')"
            ]
          },
          "metadata": {},
          "execution_count": 7
        }
      ]
    },
    {
      "cell_type": "code",
      "source": [
        "# Lets see the overall summary of our dataset and inspect the datatype and null values. \n",
        "df.info()"
      ],
      "metadata": {
        "colab": {
          "base_uri": "https://localhost:8080/"
        },
        "id": "_5jWNXqRztXA",
        "outputId": "c8448da5-51a6-4d15-852f-70f0432eb385"
      },
      "execution_count": null,
      "outputs": [
        {
          "output_type": "stream",
          "name": "stdout",
          "text": [
            "<class 'pandas.core.frame.DataFrame'>\n",
            "RangeIndex: 1223009 entries, 0 to 1223008\n",
            "Data columns (total 10 columns):\n",
            " #   Column             Non-Null Count    Dtype  \n",
            "---  ------             --------------    -----  \n",
            " 0   Id                 1223009 non-null  object \n",
            " 1   Name               1223009 non-null  object \n",
            " 2   Short description  1155109 non-null  object \n",
            " 3   Gender             1089363 non-null  object \n",
            " 4   Country            887500 non-null   object \n",
            " 5   Occupation         1016095 non-null  object \n",
            " 6   Birth year         1223009 non-null  int64  \n",
            " 7   Death year         1223008 non-null  float64\n",
            " 8   Manner of death    53603 non-null    object \n",
            " 9   Age of death       1223008 non-null  float64\n",
            "dtypes: float64(2), int64(1), object(7)\n",
            "memory usage: 93.3+ MB\n"
          ]
        }
      ]
    },
    {
      "cell_type": "code",
      "source": [
        "# Total null values in the different columns.\n",
        "df.isna().sum()"
      ],
      "metadata": {
        "id": "KUDJCTXD0kT1",
        "colab": {
          "base_uri": "https://localhost:8080/"
        },
        "outputId": "747106dc-02ad-4beb-cfba-007cfbb34936"
      },
      "execution_count": null,
      "outputs": [
        {
          "output_type": "execute_result",
          "data": {
            "text/plain": [
              "Id                         0\n",
              "Name                       0\n",
              "Short description      67900\n",
              "Gender                133646\n",
              "Country               335509\n",
              "Occupation            206914\n",
              "Birth year                 0\n",
              "Death year                 1\n",
              "Manner of death      1169406\n",
              "Age of death               1\n",
              "dtype: int64"
            ]
          },
          "metadata": {},
          "execution_count": 9
        }
      ]
    },
    {
      "cell_type": "code",
      "source": [
        "# Lets make a copy of our main dataset for furthur changes.\n",
        "data= df.copy()"
      ],
      "metadata": {
        "id": "REbqbkxLiOrR"
      },
      "execution_count": null,
      "outputs": []
    },
    {
      "cell_type": "code",
      "source": [
        "data[data['Death year'].isna()]"
      ],
      "metadata": {
        "colab": {
          "base_uri": "https://localhost:8080/",
          "height": 81
        },
        "id": "ou1N5e60jcFL",
        "outputId": "15cb8525-655d-416c-eef6-7faa35d17d4a"
      },
      "execution_count": null,
      "outputs": [
        {
          "output_type": "execute_result",
          "data": {
            "text/plain": [
              "           Id                 Name        Short description Gender Country  \\\n",
              "361  Q3611993  Issa Annamoradnejad  Creator of this dataset   Male     NaN   \n",
              "\n",
              "    Occupation  Birth year  Death year Manner of death  Age of death  \n",
              "361        NaN        1992         NaN             NaN           NaN  "
            ],
            "text/html": [
              "\n",
              "  <div id=\"df-a561616b-3124-443a-aa95-da311303a147\">\n",
              "    <div class=\"colab-df-container\">\n",
              "      <div>\n",
              "<style scoped>\n",
              "    .dataframe tbody tr th:only-of-type {\n",
              "        vertical-align: middle;\n",
              "    }\n",
              "\n",
              "    .dataframe tbody tr th {\n",
              "        vertical-align: top;\n",
              "    }\n",
              "\n",
              "    .dataframe thead th {\n",
              "        text-align: right;\n",
              "    }\n",
              "</style>\n",
              "<table border=\"1\" class=\"dataframe\">\n",
              "  <thead>\n",
              "    <tr style=\"text-align: right;\">\n",
              "      <th></th>\n",
              "      <th>Id</th>\n",
              "      <th>Name</th>\n",
              "      <th>Short description</th>\n",
              "      <th>Gender</th>\n",
              "      <th>Country</th>\n",
              "      <th>Occupation</th>\n",
              "      <th>Birth year</th>\n",
              "      <th>Death year</th>\n",
              "      <th>Manner of death</th>\n",
              "      <th>Age of death</th>\n",
              "    </tr>\n",
              "  </thead>\n",
              "  <tbody>\n",
              "    <tr>\n",
              "      <th>361</th>\n",
              "      <td>Q3611993</td>\n",
              "      <td>Issa Annamoradnejad</td>\n",
              "      <td>Creator of this dataset</td>\n",
              "      <td>Male</td>\n",
              "      <td>NaN</td>\n",
              "      <td>NaN</td>\n",
              "      <td>1992</td>\n",
              "      <td>NaN</td>\n",
              "      <td>NaN</td>\n",
              "      <td>NaN</td>\n",
              "    </tr>\n",
              "  </tbody>\n",
              "</table>\n",
              "</div>\n",
              "      <button class=\"colab-df-convert\" onclick=\"convertToInteractive('df-a561616b-3124-443a-aa95-da311303a147')\"\n",
              "              title=\"Convert this dataframe to an interactive table.\"\n",
              "              style=\"display:none;\">\n",
              "        \n",
              "  <svg xmlns=\"http://www.w3.org/2000/svg\" height=\"24px\"viewBox=\"0 0 24 24\"\n",
              "       width=\"24px\">\n",
              "    <path d=\"M0 0h24v24H0V0z\" fill=\"none\"/>\n",
              "    <path d=\"M18.56 5.44l.94 2.06.94-2.06 2.06-.94-2.06-.94-.94-2.06-.94 2.06-2.06.94zm-11 1L8.5 8.5l.94-2.06 2.06-.94-2.06-.94L8.5 2.5l-.94 2.06-2.06.94zm10 10l.94 2.06.94-2.06 2.06-.94-2.06-.94-.94-2.06-.94 2.06-2.06.94z\"/><path d=\"M17.41 7.96l-1.37-1.37c-.4-.4-.92-.59-1.43-.59-.52 0-1.04.2-1.43.59L10.3 9.45l-7.72 7.72c-.78.78-.78 2.05 0 2.83L4 21.41c.39.39.9.59 1.41.59.51 0 1.02-.2 1.41-.59l7.78-7.78 2.81-2.81c.8-.78.8-2.07 0-2.86zM5.41 20L4 18.59l7.72-7.72 1.47 1.35L5.41 20z\"/>\n",
              "  </svg>\n",
              "      </button>\n",
              "      \n",
              "  <style>\n",
              "    .colab-df-container {\n",
              "      display:flex;\n",
              "      flex-wrap:wrap;\n",
              "      gap: 12px;\n",
              "    }\n",
              "\n",
              "    .colab-df-convert {\n",
              "      background-color: #E8F0FE;\n",
              "      border: none;\n",
              "      border-radius: 50%;\n",
              "      cursor: pointer;\n",
              "      display: none;\n",
              "      fill: #1967D2;\n",
              "      height: 32px;\n",
              "      padding: 0 0 0 0;\n",
              "      width: 32px;\n",
              "    }\n",
              "\n",
              "    .colab-df-convert:hover {\n",
              "      background-color: #E2EBFA;\n",
              "      box-shadow: 0px 1px 2px rgba(60, 64, 67, 0.3), 0px 1px 3px 1px rgba(60, 64, 67, 0.15);\n",
              "      fill: #174EA6;\n",
              "    }\n",
              "\n",
              "    [theme=dark] .colab-df-convert {\n",
              "      background-color: #3B4455;\n",
              "      fill: #D2E3FC;\n",
              "    }\n",
              "\n",
              "    [theme=dark] .colab-df-convert:hover {\n",
              "      background-color: #434B5C;\n",
              "      box-shadow: 0px 1px 3px 1px rgba(0, 0, 0, 0.15);\n",
              "      filter: drop-shadow(0px 1px 2px rgba(0, 0, 0, 0.3));\n",
              "      fill: #FFFFFF;\n",
              "    }\n",
              "  </style>\n",
              "\n",
              "      <script>\n",
              "        const buttonEl =\n",
              "          document.querySelector('#df-a561616b-3124-443a-aa95-da311303a147 button.colab-df-convert');\n",
              "        buttonEl.style.display =\n",
              "          google.colab.kernel.accessAllowed ? 'block' : 'none';\n",
              "\n",
              "        async function convertToInteractive(key) {\n",
              "          const element = document.querySelector('#df-a561616b-3124-443a-aa95-da311303a147');\n",
              "          const dataTable =\n",
              "            await google.colab.kernel.invokeFunction('convertToInteractive',\n",
              "                                                     [key], {});\n",
              "          if (!dataTable) return;\n",
              "\n",
              "          const docLinkHtml = 'Like what you see? Visit the ' +\n",
              "            '<a target=\"_blank\" href=https://colab.research.google.com/notebooks/data_table.ipynb>data table notebook</a>'\n",
              "            + ' to learn more about interactive tables.';\n",
              "          element.innerHTML = '';\n",
              "          dataTable['output_type'] = 'display_data';\n",
              "          await google.colab.output.renderOutput(dataTable, element);\n",
              "          const docLink = document.createElement('div');\n",
              "          docLink.innerHTML = docLinkHtml;\n",
              "          element.appendChild(docLink);\n",
              "        }\n",
              "      </script>\n",
              "    </div>\n",
              "  </div>\n",
              "  "
            ]
          },
          "metadata": {},
          "execution_count": 11
        }
      ]
    },
    {
      "cell_type": "code",
      "source": [
        "# As we see from our summary there is only one null value present in 'Death year' column which is the data of creator of this dataset lets drop this row for better analysis.\n",
        "data.dropna(subset=['Death year'],inplace=True,axis=0 )"
      ],
      "metadata": {
        "id": "Lxv1JDZDpfH0"
      },
      "execution_count": null,
      "outputs": []
    },
    {
      "cell_type": "code",
      "source": [
        "# Here we can see that we have successfully drop the row of creator data.\n",
        "data.isna().sum()"
      ],
      "metadata": {
        "colab": {
          "base_uri": "https://localhost:8080/"
        },
        "id": "cn_f6O4yy4vc",
        "outputId": "9634bf13-7c10-43e0-d1fa-b3c638ee943b"
      },
      "execution_count": null,
      "outputs": [
        {
          "output_type": "execute_result",
          "data": {
            "text/plain": [
              "Id                         0\n",
              "Name                       0\n",
              "Short description      67900\n",
              "Gender                133646\n",
              "Country               335508\n",
              "Occupation            206913\n",
              "Birth year                 0\n",
              "Death year                 0\n",
              "Manner of death      1169405\n",
              "Age of death               0\n",
              "dtype: int64"
            ]
          },
          "metadata": {},
          "execution_count": 15
        }
      ]
    },
    {
      "cell_type": "code",
      "source": [
        "# Lets change the data type of required columns.\n",
        "data[['Death year','Age of death']]= data[['Death year','Age of death']].astype('int')\n"
      ],
      "metadata": {
        "id": "QgBEeifzy_IM"
      },
      "execution_count": null,
      "outputs": []
    },
    {
      "cell_type": "code",
      "source": [
        "data.info()"
      ],
      "metadata": {
        "colab": {
          "base_uri": "https://localhost:8080/"
        },
        "id": "mFFHjLb_zmhT",
        "outputId": "1ea7158b-862e-42c7-f532-511942cf4ebe"
      },
      "execution_count": null,
      "outputs": [
        {
          "output_type": "stream",
          "name": "stdout",
          "text": [
            "<class 'pandas.core.frame.DataFrame'>\n",
            "Int64Index: 1223008 entries, 0 to 1223008\n",
            "Data columns (total 10 columns):\n",
            " #   Column             Non-Null Count    Dtype \n",
            "---  ------             --------------    ----- \n",
            " 0   Id                 1223008 non-null  object\n",
            " 1   Name               1223008 non-null  object\n",
            " 2   Short description  1155108 non-null  object\n",
            " 3   Gender             1089362 non-null  object\n",
            " 4   Country            887500 non-null   object\n",
            " 5   Occupation         1016095 non-null  object\n",
            " 6   Birth year         1223008 non-null  int64 \n",
            " 7   Death year         1223008 non-null  int64 \n",
            " 8   Manner of death    53603 non-null    object\n",
            " 9   Age of death       1223008 non-null  int64 \n",
            "dtypes: int64(3), object(7)\n",
            "memory usage: 102.6+ MB\n"
          ]
        }
      ]
    },
    {
      "cell_type": "code",
      "source": [
        "# Here i'm replacing null values of our dataset with required values.\n",
        "data['Manner of death'].fillna('Unknown', inplace=True)\n",
        "data['Short description'].fillna('Unavailable', inplace=True)\n",
        "data['Gender'].fillna('unknown', inplace=True)\n",
        "data['Country'].fillna('Unknown', inplace=True)\n",
        "data['Occupation'].fillna('Unknown', inplace=True)"
      ],
      "metadata": {
        "id": "Dexp0viAzxHg"
      },
      "execution_count": null,
      "outputs": []
    },
    {
      "cell_type": "code",
      "source": [
        "# Finally we have done with all the null values of our dataset. Now we can proceed further for analysis.\n",
        "data.isna().sum()"
      ],
      "metadata": {
        "colab": {
          "base_uri": "https://localhost:8080/"
        },
        "id": "VOUSBgQf5pSU",
        "outputId": "2dcb44d2-d999-44e1-e7d1-eac9b1348b1d"
      },
      "execution_count": null,
      "outputs": [
        {
          "output_type": "execute_result",
          "data": {
            "text/plain": [
              "Id                   0\n",
              "Name                 0\n",
              "Short description    0\n",
              "Gender               0\n",
              "Country              0\n",
              "Occupation           0\n",
              "Birth year           0\n",
              "Death year           0\n",
              "Manner of death      0\n",
              "Age of death         0\n",
              "dtype: int64"
            ]
          },
          "metadata": {},
          "execution_count": 21
        }
      ]
    },
    {
      "cell_type": "code",
      "source": [
        ""
      ],
      "metadata": {
        "id": "IAOQh8-F5t4a"
      },
      "execution_count": null,
      "outputs": []
    }
  ]
}